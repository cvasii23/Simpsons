{
 "cells": [
  {
   "cell_type": "markdown",
   "metadata": {},
   "source": [
    "# Social interactions and the importance of the main characters in The Simpsons"
   ]
  },
  {
   "cell_type": "markdown",
   "metadata": {},
   "source": [
    "### A point of view by Catalin Vasii"
   ]
  },
  {
   "cell_type": "markdown",
   "metadata": {},
   "source": [
    "#### I recently came across a post on [Todd Schneider's blog](http://toddwschneider.com/posts/the-simpsons-by-the-data/) with a frequentalist analysis of The Simpsons episode scripts was revealing a pattern of patriarchy. However, counting words does not encapsulate any information on social interactions between the characters. Buster Keaton was silent, yet central in his films. In the following, I used pagerank to reveal these social interactions. In particular, I want to know it a patriarchical social pattern is indeed, present into the cartoon."
   ]
  },
  {
   "cell_type": "markdown",
   "metadata": {},
   "source": [
    "#### On [ Wikipedia](https://en.wikipedia.org/wiki/PageRank), PageRank is described as: an algorithm used by Google Search to rank websites in their search engine results. PageRank was named after Larry Page, one of the founders of Google. PageRank is a way of measuring the importance of website pages. According to Google:\n",
    "\n",
    "#### PageRank works by counting the number and quality of links to a page to determine a rough estimate of how important the website is. The underlying assumption is that more important websites are likely to receive more links from other websites."
   ]
  },
  {
   "cell_type": "markdown",
   "metadata": {},
   "source": [
    "#### But what else are dialogues, other than links between people? If Lisa answers to Bart, I have regarded this social connection as a link from Bart to Lisa"
   ]
  },
  {
   "cell_type": "code",
   "execution_count": 1,
   "metadata": {
    "collapsed": false
   },
   "outputs": [],
   "source": [
    "import numpy as np\n",
    "import pandas as pd\n",
    "from __future__ import division\n",
    "import re\n",
    "import networkx as nx\n",
    "import matplotlib.pyplot as plt\n",
    "%matplotlib inline"
   ]
  },
  {
   "cell_type": "markdown",
   "metadata": {},
   "source": [
    "#### I was able to get the episode scripts  following the instructions on  [this post on Vik Paruchuri's blog](http://www.vikparuchuri.com/blog/figuring-out-which-simpsons-character-is-speaking/)"
   ]
  },
  {
   "cell_type": "code",
   "execution_count": 2,
   "metadata": {
    "collapsed": false
   },
   "outputs": [],
   "source": [
    "df = pd.read_json('~/Documents/notebooks/Simpsons/simpsons-scripts/data/raw_scripts.json')"
   ]
  },
  {
   "cell_type": "code",
   "execution_count": 3,
   "metadata": {
    "collapsed": false
   },
   "outputs": [
    {
     "data": {
      "text/html": [
       "<div>\n",
       "<table border=\"1\" class=\"dataframe\">\n",
       "  <thead>\n",
       "    <tr style=\"text-align: right;\">\n",
       "      <th></th>\n",
       "      <th>episode_name</th>\n",
       "      <th>script</th>\n",
       "      <th>url</th>\n",
       "    </tr>\n",
       "  </thead>\n",
       "  <tbody>\n",
       "    <tr>\n",
       "      <th>0</th>\n",
       "      <td></td>\n",
       "      <td></td>\n",
       "      <td>http://www.snpp.com/episodes/scg.html</td>\n",
       "    </tr>\n",
       "    <tr>\n",
       "      <th>1</th>\n",
       "      <td>[9F04] Treehouse of Horror III</td>\n",
       "      <td>\\n============================================...</td>\n",
       "      <td>http://www.snpp.com/episodes/9F04.html</td>\n",
       "    </tr>\n",
       "    <tr>\n",
       "      <th>2</th>\n",
       "      <td>Itchy and Scratchy:  The Movie\\n TV Guide Syno...</td>\n",
       "      <td>\\nItchy and Scratchy:  The Movie\\n            ...</td>\n",
       "      <td>http://www.snpp.com/episodes/9F03.html</td>\n",
       "    </tr>\n",
       "    <tr>\n",
       "      <th>3</th>\n",
       "      <td>Lisa the Beauty Queen                         ...</td>\n",
       "      <td>\\nLisa the Beauty Queen                       ...</td>\n",
       "      <td>http://www.snpp.com/episodes/9F02.html</td>\n",
       "    </tr>\n",
       "    <tr>\n",
       "      <th>4</th>\n",
       "      <td>A Streetcar Named Marge                       ...</td>\n",
       "      <td>\\nA Streetcar Named Marge                     ...</td>\n",
       "      <td>http://www.snpp.com/episodes/8F18.html</td>\n",
       "    </tr>\n",
       "  </tbody>\n",
       "</table>\n",
       "</div>"
      ],
      "text/plain": [
       "                                        episode_name  \\\n",
       "0                                                      \n",
       "1                     [9F04] Treehouse of Horror III   \n",
       "2  Itchy and Scratchy:  The Movie\\n TV Guide Syno...   \n",
       "3  Lisa the Beauty Queen                         ...   \n",
       "4  A Streetcar Named Marge                       ...   \n",
       "\n",
       "                                              script  \\\n",
       "0                                                      \n",
       "1  \\n============================================...   \n",
       "2  \\nItchy and Scratchy:  The Movie\\n            ...   \n",
       "3  \\nLisa the Beauty Queen                       ...   \n",
       "4  \\nA Streetcar Named Marge                     ...   \n",
       "\n",
       "                                      url  \n",
       "0   http://www.snpp.com/episodes/scg.html  \n",
       "1  http://www.snpp.com/episodes/9F04.html  \n",
       "2  http://www.snpp.com/episodes/9F03.html  \n",
       "3  http://www.snpp.com/episodes/9F02.html  \n",
       "4  http://www.snpp.com/episodes/8F18.html  "
      ]
     },
     "execution_count": 3,
     "metadata": {},
     "output_type": "execute_result"
    }
   ],
   "source": [
    "df.head()"
   ]
  },
  {
   "cell_type": "markdown",
   "metadata": {},
   "source": [
    "#### Let's take a quick look at one episode script"
   ]
  },
  {
   "cell_type": "code",
   "execution_count": 4,
   "metadata": {
    "collapsed": false
   },
   "outputs": [],
   "source": [
    "sample = df.ix[2,1]"
   ]
  },
  {
   "cell_type": "code",
   "execution_count": 5,
   "metadata": {
    "collapsed": false
   },
   "outputs": [
    {
     "name": "stdout",
     "output_type": "stream",
     "text": [
      "Simpson, ``Itchy and Scratchy:  The Movie''\n",
      "   \n",
      "    \n",
      "   Marge: Now be good for Grampa while we're at the parent-teacher meeting.\n",
      "          We'll bring back dinner.\n",
      "   Lisa:  What are we gonna have?\n",
      "   Homer: Well, that depends on what your teachers say.  If you've been\n",
      "       \n"
     ]
    }
   ],
   "source": [
    "print(sample[1223:1500])"
   ]
  },
  {
   "cell_type": "markdown",
   "metadata": {},
   "source": [
    "#### Notice that the sections with dialogue are separated by three empty rows and also notice the pattern with the name of the character saying each line. We will need these to separate the dialogue sections and then, to extract the characters involved into each such section.\n",
    "#### We can concatenate the scripts of all the episodes into a string called textData"
   ]
  },
  {
   "cell_type": "code",
   "execution_count": 6,
   "metadata": {
    "collapsed": false
   },
   "outputs": [],
   "source": [
    "textData = df['script'].sum()"
   ]
  },
  {
   "cell_type": "markdown",
   "metadata": {},
   "source": [
    "#### Then use the three new lines pattern to split the string into a list. Our first aim is to have a list with all the dialogue sections"
   ]
  },
  {
   "cell_type": "code",
   "execution_count": 7,
   "metadata": {
    "collapsed": false
   },
   "outputs": [],
   "source": [
    "splitpattern = '\\n   \\n    \\n'\n",
    "lista = textData.split(splitpattern)"
   ]
  },
  {
   "cell_type": "markdown",
   "metadata": {},
   "source": [
    "Just to be sure we will not have problems with single and double quotations, we remove them. "
   ]
  },
  {
   "cell_type": "code",
   "execution_count": 8,
   "metadata": {
    "collapsed": false
   },
   "outputs": [],
   "source": [
    "def tameString(x):\n",
    "    x = x.replace('\"','')\n",
    "    x = x.replace(\"'\", \"\")\n",
    "    return x"
   ]
  },
  {
   "cell_type": "markdown",
   "metadata": {},
   "source": [
    "#### We keep only the sections containing the colon mark, since we are only interested in diallogue sections"
   ]
  },
  {
   "cell_type": "code",
   "execution_count": 9,
   "metadata": {
    "collapsed": true
   },
   "outputs": [],
   "source": [
    "lista = [tameString(string) for string in lista if ':' in string]"
   ]
  },
  {
   "cell_type": "code",
   "execution_count": 10,
   "metadata": {
    "collapsed": false
   },
   "outputs": [
    {
     "name": "stdout",
     "output_type": "stream",
     "text": [
      "   Lisa:  He has the demented melancholy of a Tennessee Williams heroine!\n",
      "   Homer: Dont you think I know that?\n",
      "   -- Well, honestly... No, ``Itchy and Scratchy:  The Movie\n"
     ]
    }
   ],
   "source": [
    "print(lista[25])"
   ]
  },
  {
   "cell_type": "markdown",
   "metadata": {},
   "source": [
    "#### We can see above that this is not enough, so we want to extract the character names into a sublist, using regular expressions, therefore, we are searching for everything that starts with a capital letter, followed by at least one lower case letter, and after zero or more other characters, a colon. We needed the zero or more part of the pattern because of names like Mr. Burns that also contains a space and a dot"
   ]
  },
  {
   "cell_type": "code",
   "execution_count": 11,
   "metadata": {
    "collapsed": true
   },
   "outputs": [],
   "source": [
    "pattern = r'[A-Z][a-z]+.*:'\n",
    "\n",
    "def findLines(x):\n",
    "    lista = re.findall(pattern,x) \n",
    "    return [s.replace(':','') for s in lista]"
   ]
  },
  {
   "cell_type": "markdown",
   "metadata": {},
   "source": [
    "Let's try how this works:"
   ]
  },
  {
   "cell_type": "code",
   "execution_count": 12,
   "metadata": {
    "collapsed": false
   },
   "outputs": [
    {
     "data": {
      "text/plain": [
       "['Lisa', 'Homer']"
      ]
     },
     "execution_count": 12,
     "metadata": {},
     "output_type": "execute_result"
    }
   ],
   "source": [
    "findLines('\\n    Lisa:  He has the demented melancholy of a Tennessee Williams heroine! \\\n",
    "   \\n Homer: Dont you think I know that?')"
   ]
  },
  {
   "cell_type": "markdown",
   "metadata": {},
   "source": [
    "We can now extract everything that matches the pattern into a sublist, for each dialogue section."
   ]
  },
  {
   "cell_type": "code",
   "execution_count": 13,
   "metadata": {
    "collapsed": false
   },
   "outputs": [],
   "source": [
    "lines = map(findLines, lista)"
   ]
  },
  {
   "cell_type": "code",
   "execution_count": 14,
   "metadata": {
    "collapsed": false
   },
   "outputs": [
    {
     "data": {
      "text/plain": [
       "[[u'Snake inspects his haul, ``Itchy and Scratchy'],\n",
       " [u'Homer',\n",
       "  u'Bart',\n",
       "  u'Itchy and Scratchy',\n",
       "  u'Homer',\n",
       "  u'Bart',\n",
       "  u'Homer',\n",
       "  u'Itchy and Scratchy'],\n",
       " [u'Bart, ``Itchy and Scratchy']]"
      ]
     },
     "execution_count": 14,
     "metadata": {},
     "output_type": "execute_result"
    }
   ],
   "source": [
    "lines[20:23]"
   ]
  },
  {
   "cell_type": "markdown",
   "metadata": {},
   "source": [
    "#### Unfortunately, there are unwanted items. The quickest way to filter only what we need is to manually set a list of the main characters"
   ]
  },
  {
   "cell_type": "code",
   "execution_count": 15,
   "metadata": {
    "collapsed": true
   },
   "outputs": [],
   "source": [
    "personaje = set([u'Homer', u'Marge', u'Bart', u'Lisa', u'Grampa', u'Mr. Burns', u'Krusty', \\\n",
    "                u'Moe', u'Skinner', u'Ned'])"
   ]
  },
  {
   "cell_type": "markdown",
   "metadata": {},
   "source": [
    "and filter all the above sublists:"
   ]
  },
  {
   "cell_type": "code",
   "execution_count": 16,
   "metadata": {
    "collapsed": true
   },
   "outputs": [],
   "source": [
    "lines1 = []\n",
    "for minilist in lines:\n",
    "    mini = [element for element in minilist if element in personaje]\n",
    "    lines1.append(mini)\n",
    "\n",
    "lines1 = [line for line in lines1 if len(line) >= 2] "
   ]
  },
  {
   "cell_type": "markdown",
   "metadata": {},
   "source": [
    "#### Now this is a sample of what we have extracted:"
   ]
  },
  {
   "cell_type": "code",
   "execution_count": 17,
   "metadata": {
    "collapsed": false
   },
   "outputs": [
    {
     "name": "stdout",
     "output_type": "stream",
     "text": [
      "[[u'Homer', u'Marge', u'Homer', u'Marge', u'Homer', u'Homer', u'Bart', u'Marge', u'Bart', u'Marge', u'Homer', u'Homer', u'Lisa', u'Homer', u'Lisa', u'Bart', u'Homer', u'Homer', u'Homer', u'Homer', u'Homer', u'Homer', u'Marge', u'Homer', u'Homer', u'Marge', u'Homer', u'Bart', u'Homer', u'Homer', u'Marge', u'Homer', u'Marge', u'Homer', u'Homer', u'Homer', u'Bart', u'Homer', u'Lisa', u'Homer', u'Bart', u'Homer', u'Lisa', u'Bart', u'Marge', u'Marge', u'Marge', u'Marge', u'Marge', u'Marge', u'Marge', u'Homer', u'Marge', u'Marge', u'Ned', u'Bart', u'Bart', u'Bart', u'Bart', u'Bart', u'Bart', u'Lisa', u'Bart', u'Bart', u'Lisa', u'Bart', u'Ned', u'Ned', u'Lisa', u'Homer', u'Bart', u'Homer', u'Lisa', u'Homer', u'Homer', u'Marge', u'Homer', u'Bart', u'Lisa', u'Marge', u'Homer', u'Bart', u'Homer', u'Homer', u'Homer', u'Bart', u'Lisa', u'Bart', u'Lisa', u'Bart', u'Marge', u'Bart', u'Homer'], [u'Marge', u'Lisa', u'Homer', u'Lisa', u'Bart', u'Homer'], [u'Homer', u'Marge', u'Homer']]\n"
     ]
    }
   ],
   "source": [
    "print lines1[:3]"
   ]
  },
  {
   "cell_type": "markdown",
   "metadata": {},
   "source": [
    "#### We will later need a damping parameter for the PageRank, so let's compute it now. It represents the proportion of times the caracters respond to each other within all dialogues and it is computed as $1-(proportion\\ of\\ new\\ dialogues)$ "
   ]
  },
  {
   "cell_type": "code",
   "execution_count": 18,
   "metadata": {
    "collapsed": false
   },
   "outputs": [
    {
     "name": "stdout",
     "output_type": "stream",
     "text": [
      "0.794754571704\n"
     ]
    }
   ],
   "source": [
    "flatmap = [item for sublist in lines1 for item in sublist]\n",
    "\n",
    "# Damping parameter for PageRank\n",
    "a = 1-(len(lines1)/len(flatmap))\n",
    "print a"
   ]
  },
  {
   "cell_type": "markdown",
   "metadata": {},
   "source": [
    "#### We will also try a personalized PageRank. Do do this, we construct a dictionary with the number of times each character initiates a dialogue"
   ]
  },
  {
   "cell_type": "code",
   "execution_count": 19,
   "metadata": {
    "collapsed": true
   },
   "outputs": [],
   "source": [
    "lineStart = [sublist[0] for sublist in lines1]"
   ]
  },
  {
   "cell_type": "code",
   "execution_count": 20,
   "metadata": {
    "collapsed": true
   },
   "outputs": [],
   "source": [
    "Personalize = {}\n",
    "for personaj in personaje:\n",
    "    Personalize[personaj] = lineStart.count(personaj)"
   ]
  },
  {
   "cell_type": "markdown",
   "metadata": {},
   "source": [
    "## Social Interactions"
   ]
  },
  {
   "cell_type": "markdown",
   "metadata": {},
   "source": [
    "#### We can finally now look for social interactions between characters. We are interested in which character is responding to which character in all the dialogue sections. E.g. in the sequence: *u'Homer', u'Marge', u'Homer', u'Marge', u'Homer'*, Merge responds to Homer, then Homer responds to Marge, then Marge to homer again, etc. We want to extract bigrams of the form (u'Homer', u'Marge'),(u'Marge', u'Homer'), (u'Homer', u'Marge'). We can use the nltk library for Natural Language Processing, or do it without any specialized library:"
   ]
  },
  {
   "cell_type": "code",
   "execution_count": 21,
   "metadata": {
    "collapsed": false
   },
   "outputs": [],
   "source": [
    "bigrams = []\n",
    "for lis in lines1:\n",
    "    for i in range(0,len(lis)-1):\n",
    "        bigrams.append((lis[i],lis[i+1]))"
   ]
  },
  {
   "cell_type": "markdown",
   "metadata": {},
   "source": [
    "#### We can have a better look at the bigrams by writing them into a data frame. Let's first create a dataframe with zero values and the characters as index and column names"
   ]
  },
  {
   "cell_type": "code",
   "execution_count": 22,
   "metadata": {
    "collapsed": true
   },
   "outputs": [],
   "source": [
    "data = pd.DataFrame(columns = list(personaje), index=list(personaje)).fillna(0)"
   ]
  },
  {
   "cell_type": "markdown",
   "metadata": {},
   "source": [
    "#### For each bigram (u'Homer', u'Marge'), we will add $1$ to the element on the row Homer and the column Marge, meaning that Marge is responding to Homer:"
   ]
  },
  {
   "cell_type": "code",
   "execution_count": 23,
   "metadata": {
    "collapsed": false
   },
   "outputs": [],
   "source": [
    "for element in bigrams:\n",
    "    if element[0] != element[1]:\n",
    "        data.ix[element[0],element[1]] =  data.ix[element[0],element[1]] +1"
   ]
  },
  {
   "cell_type": "markdown",
   "metadata": {},
   "source": [
    "#### The resulting dataframe is:"
   ]
  },
  {
   "cell_type": "code",
   "execution_count": 24,
   "metadata": {
    "collapsed": false
   },
   "outputs": [
    {
     "data": {
      "text/html": [
       "<div>\n",
       "<table border=\"1\" class=\"dataframe\">\n",
       "  <thead>\n",
       "    <tr style=\"text-align: right;\">\n",
       "      <th></th>\n",
       "      <th>Homer</th>\n",
       "      <th>Bart</th>\n",
       "      <th>Mr. Burns</th>\n",
       "      <th>Ned</th>\n",
       "      <th>Krusty</th>\n",
       "      <th>Grampa</th>\n",
       "      <th>Marge</th>\n",
       "      <th>Lisa</th>\n",
       "      <th>Moe</th>\n",
       "      <th>Skinner</th>\n",
       "    </tr>\n",
       "  </thead>\n",
       "  <tbody>\n",
       "    <tr>\n",
       "      <th>Homer</th>\n",
       "      <td>0</td>\n",
       "      <td>250</td>\n",
       "      <td>1</td>\n",
       "      <td>24</td>\n",
       "      <td>5</td>\n",
       "      <td>20</td>\n",
       "      <td>312</td>\n",
       "      <td>145</td>\n",
       "      <td>20</td>\n",
       "      <td>3</td>\n",
       "    </tr>\n",
       "    <tr>\n",
       "      <th>Bart</th>\n",
       "      <td>261</td>\n",
       "      <td>0</td>\n",
       "      <td>0</td>\n",
       "      <td>7</td>\n",
       "      <td>13</td>\n",
       "      <td>13</td>\n",
       "      <td>78</td>\n",
       "      <td>170</td>\n",
       "      <td>21</td>\n",
       "      <td>8</td>\n",
       "    </tr>\n",
       "    <tr>\n",
       "      <th>Mr. Burns</th>\n",
       "      <td>0</td>\n",
       "      <td>0</td>\n",
       "      <td>0</td>\n",
       "      <td>0</td>\n",
       "      <td>0</td>\n",
       "      <td>0</td>\n",
       "      <td>1</td>\n",
       "      <td>0</td>\n",
       "      <td>0</td>\n",
       "      <td>0</td>\n",
       "    </tr>\n",
       "    <tr>\n",
       "      <th>Ned</th>\n",
       "      <td>33</td>\n",
       "      <td>2</td>\n",
       "      <td>0</td>\n",
       "      <td>0</td>\n",
       "      <td>0</td>\n",
       "      <td>0</td>\n",
       "      <td>0</td>\n",
       "      <td>3</td>\n",
       "      <td>0</td>\n",
       "      <td>0</td>\n",
       "    </tr>\n",
       "    <tr>\n",
       "      <th>Krusty</th>\n",
       "      <td>8</td>\n",
       "      <td>9</td>\n",
       "      <td>0</td>\n",
       "      <td>0</td>\n",
       "      <td>0</td>\n",
       "      <td>0</td>\n",
       "      <td>1</td>\n",
       "      <td>4</td>\n",
       "      <td>0</td>\n",
       "      <td>0</td>\n",
       "    </tr>\n",
       "    <tr>\n",
       "      <th>Grampa</th>\n",
       "      <td>21</td>\n",
       "      <td>11</td>\n",
       "      <td>0</td>\n",
       "      <td>0</td>\n",
       "      <td>0</td>\n",
       "      <td>0</td>\n",
       "      <td>1</td>\n",
       "      <td>3</td>\n",
       "      <td>0</td>\n",
       "      <td>0</td>\n",
       "    </tr>\n",
       "    <tr>\n",
       "      <th>Marge</th>\n",
       "      <td>380</td>\n",
       "      <td>97</td>\n",
       "      <td>0</td>\n",
       "      <td>2</td>\n",
       "      <td>1</td>\n",
       "      <td>5</td>\n",
       "      <td>0</td>\n",
       "      <td>57</td>\n",
       "      <td>1</td>\n",
       "      <td>0</td>\n",
       "    </tr>\n",
       "    <tr>\n",
       "      <th>Lisa</th>\n",
       "      <td>170</td>\n",
       "      <td>192</td>\n",
       "      <td>0</td>\n",
       "      <td>0</td>\n",
       "      <td>4</td>\n",
       "      <td>2</td>\n",
       "      <td>61</td>\n",
       "      <td>0</td>\n",
       "      <td>3</td>\n",
       "      <td>1</td>\n",
       "    </tr>\n",
       "    <tr>\n",
       "      <th>Moe</th>\n",
       "      <td>15</td>\n",
       "      <td>18</td>\n",
       "      <td>0</td>\n",
       "      <td>0</td>\n",
       "      <td>2</td>\n",
       "      <td>0</td>\n",
       "      <td>2</td>\n",
       "      <td>5</td>\n",
       "      <td>0</td>\n",
       "      <td>0</td>\n",
       "    </tr>\n",
       "    <tr>\n",
       "      <th>Skinner</th>\n",
       "      <td>3</td>\n",
       "      <td>7</td>\n",
       "      <td>0</td>\n",
       "      <td>0</td>\n",
       "      <td>0</td>\n",
       "      <td>0</td>\n",
       "      <td>0</td>\n",
       "      <td>1</td>\n",
       "      <td>1</td>\n",
       "      <td>0</td>\n",
       "    </tr>\n",
       "  </tbody>\n",
       "</table>\n",
       "</div>"
      ],
      "text/plain": [
       "           Homer  Bart  Mr. Burns  Ned  Krusty  Grampa  Marge  Lisa  Moe  \\\n",
       "Homer          0   250          1   24       5      20    312   145   20   \n",
       "Bart         261     0          0    7      13      13     78   170   21   \n",
       "Mr. Burns      0     0          0    0       0       0      1     0    0   \n",
       "Ned           33     2          0    0       0       0      0     3    0   \n",
       "Krusty         8     9          0    0       0       0      1     4    0   \n",
       "Grampa        21    11          0    0       0       0      1     3    0   \n",
       "Marge        380    97          0    2       1       5      0    57    1   \n",
       "Lisa         170   192          0    0       4       2     61     0    3   \n",
       "Moe           15    18          0    0       2       0      2     5    0   \n",
       "Skinner        3     7          0    0       0       0      0     1    1   \n",
       "\n",
       "           Skinner  \n",
       "Homer            3  \n",
       "Bart             8  \n",
       "Mr. Burns        0  \n",
       "Ned              0  \n",
       "Krusty           0  \n",
       "Grampa           0  \n",
       "Marge            0  \n",
       "Lisa             1  \n",
       "Moe              0  \n",
       "Skinner          0  "
      ]
     },
     "execution_count": 24,
     "metadata": {},
     "output_type": "execute_result"
    }
   ],
   "source": [
    "data"
   ]
  },
  {
   "cell_type": "markdown",
   "metadata": {},
   "source": [
    "#### We can also construct a dataframe with a stochastic matrix values providing the proportion of time Home is answered by Marge in the line Homer, column Marge"
   ]
  },
  {
   "cell_type": "code",
   "execution_count": 25,
   "metadata": {
    "collapsed": false
   },
   "outputs": [],
   "source": [
    "data1 = data.copy()\n",
    "data1['Sum'] = data1.sum(axis=1)"
   ]
  },
  {
   "cell_type": "code",
   "execution_count": 26,
   "metadata": {
    "collapsed": true
   },
   "outputs": [],
   "source": [
    "for pers in personaje:\n",
    "    data1[pers] = data1[pers] / data1['Sum']\n",
    "\n",
    "data1.drop('Sum',axis=1, inplace=True)"
   ]
  },
  {
   "cell_type": "code",
   "execution_count": 27,
   "metadata": {
    "collapsed": false
   },
   "outputs": [
    {
     "data": {
      "text/html": [
       "<div>\n",
       "<table border=\"1\" class=\"dataframe\">\n",
       "  <thead>\n",
       "    <tr style=\"text-align: right;\">\n",
       "      <th></th>\n",
       "      <th>Homer</th>\n",
       "      <th>Bart</th>\n",
       "      <th>Mr. Burns</th>\n",
       "      <th>Ned</th>\n",
       "      <th>Krusty</th>\n",
       "      <th>Grampa</th>\n",
       "      <th>Marge</th>\n",
       "      <th>Lisa</th>\n",
       "      <th>Moe</th>\n",
       "      <th>Skinner</th>\n",
       "    </tr>\n",
       "  </thead>\n",
       "  <tbody>\n",
       "    <tr>\n",
       "      <th>Homer</th>\n",
       "      <td>0.000000</td>\n",
       "      <td>0.320513</td>\n",
       "      <td>0.001282</td>\n",
       "      <td>0.030769</td>\n",
       "      <td>0.006410</td>\n",
       "      <td>0.025641</td>\n",
       "      <td>0.400000</td>\n",
       "      <td>0.185897</td>\n",
       "      <td>0.025641</td>\n",
       "      <td>0.003846</td>\n",
       "    </tr>\n",
       "    <tr>\n",
       "      <th>Bart</th>\n",
       "      <td>0.457093</td>\n",
       "      <td>0.000000</td>\n",
       "      <td>0.000000</td>\n",
       "      <td>0.012259</td>\n",
       "      <td>0.022767</td>\n",
       "      <td>0.022767</td>\n",
       "      <td>0.136602</td>\n",
       "      <td>0.297723</td>\n",
       "      <td>0.036778</td>\n",
       "      <td>0.014011</td>\n",
       "    </tr>\n",
       "    <tr>\n",
       "      <th>Mr. Burns</th>\n",
       "      <td>0.000000</td>\n",
       "      <td>0.000000</td>\n",
       "      <td>0.000000</td>\n",
       "      <td>0.000000</td>\n",
       "      <td>0.000000</td>\n",
       "      <td>0.000000</td>\n",
       "      <td>1.000000</td>\n",
       "      <td>0.000000</td>\n",
       "      <td>0.000000</td>\n",
       "      <td>0.000000</td>\n",
       "    </tr>\n",
       "    <tr>\n",
       "      <th>Ned</th>\n",
       "      <td>0.868421</td>\n",
       "      <td>0.052632</td>\n",
       "      <td>0.000000</td>\n",
       "      <td>0.000000</td>\n",
       "      <td>0.000000</td>\n",
       "      <td>0.000000</td>\n",
       "      <td>0.000000</td>\n",
       "      <td>0.078947</td>\n",
       "      <td>0.000000</td>\n",
       "      <td>0.000000</td>\n",
       "    </tr>\n",
       "    <tr>\n",
       "      <th>Krusty</th>\n",
       "      <td>0.363636</td>\n",
       "      <td>0.409091</td>\n",
       "      <td>0.000000</td>\n",
       "      <td>0.000000</td>\n",
       "      <td>0.000000</td>\n",
       "      <td>0.000000</td>\n",
       "      <td>0.045455</td>\n",
       "      <td>0.181818</td>\n",
       "      <td>0.000000</td>\n",
       "      <td>0.000000</td>\n",
       "    </tr>\n",
       "    <tr>\n",
       "      <th>Grampa</th>\n",
       "      <td>0.583333</td>\n",
       "      <td>0.305556</td>\n",
       "      <td>0.000000</td>\n",
       "      <td>0.000000</td>\n",
       "      <td>0.000000</td>\n",
       "      <td>0.000000</td>\n",
       "      <td>0.027778</td>\n",
       "      <td>0.083333</td>\n",
       "      <td>0.000000</td>\n",
       "      <td>0.000000</td>\n",
       "    </tr>\n",
       "    <tr>\n",
       "      <th>Marge</th>\n",
       "      <td>0.699816</td>\n",
       "      <td>0.178637</td>\n",
       "      <td>0.000000</td>\n",
       "      <td>0.003683</td>\n",
       "      <td>0.001842</td>\n",
       "      <td>0.009208</td>\n",
       "      <td>0.000000</td>\n",
       "      <td>0.104972</td>\n",
       "      <td>0.001842</td>\n",
       "      <td>0.000000</td>\n",
       "    </tr>\n",
       "    <tr>\n",
       "      <th>Lisa</th>\n",
       "      <td>0.392610</td>\n",
       "      <td>0.443418</td>\n",
       "      <td>0.000000</td>\n",
       "      <td>0.000000</td>\n",
       "      <td>0.009238</td>\n",
       "      <td>0.004619</td>\n",
       "      <td>0.140878</td>\n",
       "      <td>0.000000</td>\n",
       "      <td>0.006928</td>\n",
       "      <td>0.002309</td>\n",
       "    </tr>\n",
       "    <tr>\n",
       "      <th>Moe</th>\n",
       "      <td>0.357143</td>\n",
       "      <td>0.428571</td>\n",
       "      <td>0.000000</td>\n",
       "      <td>0.000000</td>\n",
       "      <td>0.047619</td>\n",
       "      <td>0.000000</td>\n",
       "      <td>0.047619</td>\n",
       "      <td>0.119048</td>\n",
       "      <td>0.000000</td>\n",
       "      <td>0.000000</td>\n",
       "    </tr>\n",
       "    <tr>\n",
       "      <th>Skinner</th>\n",
       "      <td>0.250000</td>\n",
       "      <td>0.583333</td>\n",
       "      <td>0.000000</td>\n",
       "      <td>0.000000</td>\n",
       "      <td>0.000000</td>\n",
       "      <td>0.000000</td>\n",
       "      <td>0.000000</td>\n",
       "      <td>0.083333</td>\n",
       "      <td>0.083333</td>\n",
       "      <td>0.000000</td>\n",
       "    </tr>\n",
       "  </tbody>\n",
       "</table>\n",
       "</div>"
      ],
      "text/plain": [
       "              Homer      Bart  Mr. Burns       Ned    Krusty    Grampa  \\\n",
       "Homer      0.000000  0.320513   0.001282  0.030769  0.006410  0.025641   \n",
       "Bart       0.457093  0.000000   0.000000  0.012259  0.022767  0.022767   \n",
       "Mr. Burns  0.000000  0.000000   0.000000  0.000000  0.000000  0.000000   \n",
       "Ned        0.868421  0.052632   0.000000  0.000000  0.000000  0.000000   \n",
       "Krusty     0.363636  0.409091   0.000000  0.000000  0.000000  0.000000   \n",
       "Grampa     0.583333  0.305556   0.000000  0.000000  0.000000  0.000000   \n",
       "Marge      0.699816  0.178637   0.000000  0.003683  0.001842  0.009208   \n",
       "Lisa       0.392610  0.443418   0.000000  0.000000  0.009238  0.004619   \n",
       "Moe        0.357143  0.428571   0.000000  0.000000  0.047619  0.000000   \n",
       "Skinner    0.250000  0.583333   0.000000  0.000000  0.000000  0.000000   \n",
       "\n",
       "              Marge      Lisa       Moe   Skinner  \n",
       "Homer      0.400000  0.185897  0.025641  0.003846  \n",
       "Bart       0.136602  0.297723  0.036778  0.014011  \n",
       "Mr. Burns  1.000000  0.000000  0.000000  0.000000  \n",
       "Ned        0.000000  0.078947  0.000000  0.000000  \n",
       "Krusty     0.045455  0.181818  0.000000  0.000000  \n",
       "Grampa     0.027778  0.083333  0.000000  0.000000  \n",
       "Marge      0.000000  0.104972  0.001842  0.000000  \n",
       "Lisa       0.140878  0.000000  0.006928  0.002309  \n",
       "Moe        0.047619  0.119048  0.000000  0.000000  \n",
       "Skinner    0.000000  0.083333  0.083333  0.000000  "
      ]
     },
     "execution_count": 27,
     "metadata": {},
     "output_type": "execute_result"
    }
   ],
   "source": [
    "data1"
   ]
  },
  {
   "cell_type": "markdown",
   "metadata": {},
   "source": [
    "#### After we construct a graph with this data:"
   ]
  },
  {
   "cell_type": "code",
   "execution_count": 28,
   "metadata": {
    "collapsed": false
   },
   "outputs": [],
   "source": [
    "G=nx.DiGraph()\n",
    "Edges = [bgm for bgm in bigrams if bgm[0] != bgm[1]]\n",
    "G.add_edges_from(Edges)"
   ]
  },
  {
   "cell_type": "code",
   "execution_count": 29,
   "metadata": {
    "collapsed": false
   },
   "outputs": [
    {
     "data": {
      "image/png": "[encoded data removed]",
      "text/plain": [
       "<matplotlib.figure.Figure at 0x7f00ecd08750>"
      ]
     },
     "metadata": {},
     "output_type": "display_data"
    }
   ],
   "source": [
    "plt.figure(figsize=(11,11))\n",
    "nx.draw_networkx(G, pos=None, arrows=True, node_size=2000, with_labels=True, node_color='blue', alpha=0.3) \n",
    "plt.show()"
   ]
  },
  {
   "cell_type": "markdown",
   "metadata": {},
   "source": [
    "#### We are  able to apply pagerank:"
   ]
  },
  {
   "cell_type": "code",
   "execution_count": 30,
   "metadata": {
    "collapsed": true
   },
   "outputs": [],
   "source": [
    "pagerank = nx.pagerank(G,alpha=a)"
   ]
  },
  {
   "cell_type": "code",
   "execution_count": 31,
   "metadata": {
    "collapsed": false
   },
   "outputs": [
    {
     "data": {
      "text/html": [
       "<div>\n",
       "<table border=\"1\" class=\"dataframe\">\n",
       "  <thead>\n",
       "    <tr style=\"text-align: right;\">\n",
       "      <th></th>\n",
       "      <th>Bart</th>\n",
       "      <th>Grampa</th>\n",
       "      <th>Homer</th>\n",
       "      <th>Krusty</th>\n",
       "      <th>Lisa</th>\n",
       "      <th>Marge</th>\n",
       "      <th>Moe</th>\n",
       "      <th>Mr. Burns</th>\n",
       "      <th>Ned</th>\n",
       "      <th>Skinner</th>\n",
       "    </tr>\n",
       "  </thead>\n",
       "  <tbody>\n",
       "    <tr>\n",
       "      <th>0</th>\n",
       "      <td>0.144315</td>\n",
       "      <td>0.079781</td>\n",
       "      <td>0.145779</td>\n",
       "      <td>0.09448</td>\n",
       "      <td>0.142476</td>\n",
       "      <td>0.139777</td>\n",
       "      <td>0.092479</td>\n",
       "      <td>0.033398</td>\n",
       "      <td>0.063605</td>\n",
       "      <td>0.063911</td>\n",
       "    </tr>\n",
       "  </tbody>\n",
       "</table>\n",
       "</div>"
      ],
      "text/plain": [
       "       Bart    Grampa     Homer   Krusty      Lisa     Marge       Moe  \\\n",
       "0  0.144315  0.079781  0.145779  0.09448  0.142476  0.139777  0.092479   \n",
       "\n",
       "   Mr. Burns       Ned   Skinner  \n",
       "0   0.033398  0.063605  0.063911  "
      ]
     },
     "execution_count": 31,
     "metadata": {},
     "output_type": "execute_result"
    }
   ],
   "source": [
    "rankDF = pd.DataFrame(pagerank,index=[0])\n",
    "rankDF"
   ]
  },
  {
   "cell_type": "code",
   "execution_count": 32,
   "metadata": {
    "collapsed": false
   },
   "outputs": [
    {
     "data": {
      "image/png": "[encoded data removed]",
      "text/plain": [
       "<matplotlib.figure.Figure at 0x7f00ecc23f50>"
      ]
     },
     "metadata": {},
     "output_type": "display_data"
    }
   ],
   "source": [
    "plt.figure(figsize=(10,7))\n",
    "plt.bar(range(len(pagerank)), pagerank.values(), align='center')\n",
    "plt.xticks(range(len(pagerank)), pagerank.keys())\n",
    "plt.show()"
   ]
  },
  {
   "cell_type": "markdown",
   "metadata": {},
   "source": [
    "#### We can see no patriarchal setting between the characters: Homer, Marge, Bart and Lisa have the same social importance. Krusty the Clown seems to be more important than Moe, but there are many supporting characters we haven't took into account and who Moe's clients."
   ]
  },
  {
   "cell_type": "markdown",
   "metadata": {},
   "source": [
    "#### In the end, we can also try a personalized pagerank, considering that when a dialogue ends, the distribution of probability for the character who will initiate a new dialogue is not uniform."
   ]
  },
  {
   "cell_type": "code",
   "execution_count": 33,
   "metadata": {
    "collapsed": true
   },
   "outputs": [],
   "source": [
    "pagerankP = nx.pagerank(G,alpha=a,personalization=Personalize)"
   ]
  },
  {
   "cell_type": "code",
   "execution_count": 34,
   "metadata": {
    "collapsed": false
   },
   "outputs": [
    {
     "data": {
      "text/html": [
       "<div>\n",
       "<table border=\"1\" class=\"dataframe\">\n",
       "  <thead>\n",
       "    <tr style=\"text-align: right;\">\n",
       "      <th></th>\n",
       "      <th>Bart</th>\n",
       "      <th>Grampa</th>\n",
       "      <th>Homer</th>\n",
       "      <th>Krusty</th>\n",
       "      <th>Lisa</th>\n",
       "      <th>Marge</th>\n",
       "      <th>Moe</th>\n",
       "      <th>Mr. Burns</th>\n",
       "      <th>Ned</th>\n",
       "      <th>Skinner</th>\n",
       "    </tr>\n",
       "  </thead>\n",
       "  <tbody>\n",
       "    <tr>\n",
       "      <th>0</th>\n",
       "      <td>0.161043</td>\n",
       "      <td>0.068675</td>\n",
       "      <td>0.19584</td>\n",
       "      <td>0.083213</td>\n",
       "      <td>0.146025</td>\n",
       "      <td>0.144425</td>\n",
       "      <td>0.079352</td>\n",
       "      <td>0.017294</td>\n",
       "      <td>0.052818</td>\n",
       "      <td>0.051315</td>\n",
       "    </tr>\n",
       "  </tbody>\n",
       "</table>\n",
       "</div>"
      ],
      "text/plain": [
       "       Bart    Grampa    Homer    Krusty      Lisa     Marge       Moe  \\\n",
       "0  0.161043  0.068675  0.19584  0.083213  0.146025  0.144425  0.079352   \n",
       "\n",
       "   Mr. Burns       Ned   Skinner  \n",
       "0   0.017294  0.052818  0.051315  "
      ]
     },
     "execution_count": 34,
     "metadata": {},
     "output_type": "execute_result"
    }
   ],
   "source": [
    "rankPersDF = pd.DataFrame(pagerankP,index=[0])\n",
    "rankPersDF"
   ]
  },
  {
   "cell_type": "code",
   "execution_count": 35,
   "metadata": {
    "collapsed": false
   },
   "outputs": [
    {
     "data": {
      "image/png": "[encoded data removed]",
      "text/plain": [
       "<matplotlib.figure.Figure at 0x7f00ec707f90>"
      ]
     },
     "metadata": {},
     "output_type": "display_data"
    }
   ],
   "source": [
    "plt.figure(figsize=(10,7))\n",
    "plt.bar(range(len(pagerankP)), pagerankP.values(), align='center')\n",
    "plt.xticks(range(len(pagerankP)), pagerankP.keys())\n",
    "plt.show()"
   ]
  },
  {
   "cell_type": "markdown",
   "metadata": {},
   "source": [
    "#### Here, the things have changed, at least for Homer. Unsurprisingly, he is the one that spearks without being asked anyting."
   ]
  },
  {
   "cell_type": "markdown",
   "metadata": {},
   "source": [
    "feedback is welcome: cvasii23-at-gmail-dot-com. This is still in a draft state"
   ]
  },
  {
   "cell_type": "code",
   "execution_count": null,
   "metadata": {
    "collapsed": true
   },
   "outputs": [],
   "source": []
  }
 ],
 "metadata": {
  "kernelspec": {
   "display_name": "Python 2",
   "language": "python",
   "name": "python2"
  },
  "language_info": {
   "codemirror_mode": {
    "name": "ipython",
    "version": 2
   },
   "file_extension": ".py",
   "mimetype": "text/x-python",
   "name": "python",
   "nbconvert_exporter": "python",
   "pygments_lexer": "ipython2",
   "version": "2.7.12"
  }
 },
 "nbformat": 4,
 "nbformat_minor": 0
}
